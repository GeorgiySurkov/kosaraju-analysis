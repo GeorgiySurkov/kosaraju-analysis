{
 "cells": [
  {
   "cell_type": "code",
   "execution_count": 1,
   "id": "initial_id",
   "metadata": {
    "collapsed": true,
    "ExecuteTime": {
     "end_time": "2023-12-20T00:41:18.554612Z",
     "start_time": "2023-12-20T00:41:18.129187Z"
    }
   },
   "outputs": [],
   "source": [
    "import numpy as np\n",
    "import matplotlib.pyplot as plt\n",
    "\n",
    "from timeit import default_timer as timer\n",
    "\n",
    "from measure import generate_input\n",
    "from kosaraju import kosaraju_algorithm"
   ]
  },
  {
   "cell_type": "code",
   "execution_count": 3,
   "outputs": [],
   "source": [
    "TRIES_PER_INPUT = 5\n",
    "GRAPHS_PER_SIZE = 10"
   ],
   "metadata": {
    "collapsed": false,
    "ExecuteTime": {
     "end_time": "2023-12-20T00:41:26.056830Z",
     "start_time": "2023-12-20T00:41:26.051610Z"
    }
   },
   "id": "db4643be61c137a3"
  },
  {
   "cell_type": "code",
   "execution_count": 16,
   "outputs": [],
   "source": [
    "dataset = []"
   ],
   "metadata": {
    "collapsed": false,
    "ExecuteTime": {
     "end_time": "2023-12-20T00:29:36.849919Z",
     "start_time": "2023-12-20T00:29:36.839099Z"
    }
   },
   "id": "21f1e16796aa0163"
  },
  {
   "cell_type": "code",
   "execution_count": 32,
   "outputs": [
    {
     "name": "stdout",
     "output_type": "stream",
     "text": [
      "Average execution time for n=450, m=100: 0.0007042917131911963 seconds\n",
      "results=[0.0008932080236263573, 0.0008686670335009694, 0.0007611670298501849, 0.0007581660174764693, 0.0006721250247210264, 0.000691374996677041, 0.0006406250176951289, 0.0006053340039215982, 0.0006021250155754387, 0.000550124968867749]\n"
     ]
    }
   ],
   "source": [
    "n = 450\n",
    "m = 100\n",
    "results = []\n",
    "for i in range(GRAPHS_PER_SIZE):\n",
    "\t\tedges = generate_input(n, m)\n",
    "\t\ttries_results = []\n",
    "\t\tfor _ in range(TRIES_PER_INPUT):\n",
    "\t\t\tstart = timer()\n",
    "\t\t\tkosaraju_algorithm(n, edges)\n",
    "\t\t\tend = timer()\n",
    "\t\t\ttries_results.append(end - start)\n",
    "\t\tresults.append(np.min(tries_results))\n",
    "result = np.mean(results)\n",
    "dataset.append(result)\n",
    "print(f'Average execution time for n={n}, m={m}: {result} seconds')\n",
    "print(f\"{results=}\")"
   ],
   "metadata": {
    "collapsed": false,
    "ExecuteTime": {
     "end_time": "2023-12-20T00:36:34.558191Z",
     "start_time": "2023-12-20T00:36:34.528687Z"
    }
   },
   "id": "bb985d9b97e29bae"
  },
  {
   "cell_type": "code",
   "execution_count": 29,
   "outputs": [
    {
     "data": {
      "text/plain": "[0.00019183760741725564,\n 0.00026084569399245086,\n 0.00035487909335643055,\n 0.0003994374943431467,\n 0.0003623292897827923]"
     },
     "execution_count": 29,
     "metadata": {},
     "output_type": "execute_result"
    }
   ],
   "source": [
    "dataset"
   ],
   "metadata": {
    "collapsed": false,
    "ExecuteTime": {
     "end_time": "2023-12-20T00:35:05.829877Z",
     "start_time": "2023-12-20T00:35:05.814211Z"
    }
   },
   "id": "6afe352e061902dd"
  },
  {
   "cell_type": "code",
   "execution_count": 26,
   "outputs": [
    {
     "data": {
      "text/plain": "0.0003798999998252839"
     },
     "execution_count": 26,
     "metadata": {},
     "output_type": "execute_result"
    }
   ],
   "source": [
    "dataset.pop()"
   ],
   "metadata": {
    "collapsed": false,
    "ExecuteTime": {
     "end_time": "2023-12-20T00:34:47.531519Z",
     "start_time": "2023-12-20T00:34:47.523434Z"
    }
   },
   "id": "bcf9577941bbb396"
  },
  {
   "cell_type": "code",
   "execution_count": null,
   "outputs": [],
   "source": [],
   "metadata": {
    "collapsed": false
   },
   "id": "f75cb5ae8ba89f8f"
  },
  {
   "cell_type": "code",
   "execution_count": null,
   "outputs": [],
   "source": [
    "n_values = range(10, 1000, 10)\n",
    "m_values = range(10, 100, 10)\n",
    "times = [[] for _ in n_values]\n",
    "for i, n in enumerate(n_values):\n",
    "\t\tfor m in m_values:\n",
    "\t\t\t\tedges = generate_input(n, m)\n",
    "\t\t\t\tstart = timer()\n",
    "\t\t\t\tkosaraju_algorithm(n, edges)\n",
    "\t\t\t\tend = timer()\n",
    "\t\t\t\ttimes[i].append(end - start)\n",
    "\n",
    "\t# Calculate average times\n",
    "\tavg_times = [np.min(t) for t in times]\n",
    "\n",
    "\t# Convert lists to numpy arrays for easier manipulation\n",
    "\tn_values = np.array(n_values)\n",
    "\tavg_times = np.array(avg_times)\n",
    "\n",
    "\t# Plotting\n",
    "\tplt.figure(figsize=(10, 5))\n",
    "\tplt.plot(n_values, avg_times, label='Average Execution Time')\n",
    "\tplt.xlabel('Number of Nodes')\n",
    "\tplt.ylabel('Time (s)')\n",
    "\tplt.title('Performance of Kosaraju Algorithm')\n",
    "\tplt.legend()\n",
    "\tplt.grid(True)\n",
    "\tplt.show()"
   ],
   "metadata": {
    "collapsed": false
   },
   "id": "b5d149c72471fe2e"
  },
  {
   "cell_type": "code",
   "execution_count": 12,
   "outputs": [
    {
     "name": "stdout",
     "output_type": "stream",
     "text": [
      "T_{\\mathrm{avg}}(n=20,m=20)&=&4.362899926491082e-05\\;\\mathrm{c}\\\\\n",
      "T_{\\mathrm{avg}}(n=40,m=40)&=&7.93418032117188e-05\\;\\mathrm{c}\\\\\n",
      "T_{\\mathrm{avg}}(n=80,m=80)&=&0.00014529160689562558\\;\\mathrm{c}\\\\\n",
      "T_{\\mathrm{avg}}(n=160,m=160)&=&0.0002457126043736935\\;\\mathrm{c}\\\\\n",
      "T_{\\mathrm{avg}}(n=320,m=320)&=&0.0004108000081032515\\;\\mathrm{c}\\\\\n",
      "T_{\\mathrm{avg}}(n=640,m=640)&=&0.0006716167030390352\\;\\mathrm{c}\\\\\n",
      "T_{\\mathrm{avg}}(n=1280,m=1280)&=&0.0013132666004821657\\;\\mathrm{c}\\\\\n",
      "T_{\\mathrm{avg}}(n=2560,m=2560)&=&0.00271005000686273\\;\\mathrm{c}\\\\\n",
      "T_{\\mathrm{avg}}(n=5120,m=5120)&=&0.005762979207793251\\;\\mathrm{c}\\\\\n",
      "T_{\\mathrm{avg}}(n=10240,m=10240)&=&0.011955599911743775\\;\\mathrm{c}\\\\\n"
     ]
    }
   ],
   "source": [
    "results = []\n",
    "n = 10\n",
    "m = 10\n",
    "for _ in range(10):\n",
    "\tn *= 2\n",
    "\tm *= 2\n",
    "\tcurr_n_results = []\n",
    "\tfor i in range(GRAPHS_PER_SIZE):\n",
    "\t\t\tedges = generate_input(n, m)\n",
    "\t\t\ttries_results = []\n",
    "\t\t\tfor _ in range(TRIES_PER_INPUT):\n",
    "\t\t\t\tstart = timer()\n",
    "\t\t\t\tkosaraju_algorithm(n, edges)\n",
    "\t\t\t\tend = timer()\n",
    "\t\t\t\ttries_results.append(end - start)\n",
    "\t\t\tcurr_n_results.append(np.min(tries_results))\n",
    "\tresults.append(np.mean(curr_n_results))\n",
    "\t# print(f\"({n=}, {m=})\")\n",
    "\tprint(\"T_{\\mathrm{avg}}(n=\" + str(n) + \",m=\" + str(m) + \")&=&\" + str(np.mean(curr_n_results)) + \"\\;\\mathrm{c}\\\\\\\\\")\n",
    "\t# print(f'Average execution time for n={n}, m={m}: {result} seconds')\n",
    "\t# print(f\"{results=}\")"
   ],
   "metadata": {
    "collapsed": false,
    "ExecuteTime": {
     "end_time": "2023-12-20T00:48:09.478396Z",
     "start_time": "2023-12-20T00:48:07.023262Z"
    }
   },
   "id": "1dc6737d58cea4e9"
  },
  {
   "cell_type": "code",
   "execution_count": 13,
   "outputs": [
    {
     "data": {
      "text/plain": "[4.362899926491082e-05,\n 7.93418032117188e-05,\n 0.00014529160689562558,\n 0.0002457126043736935,\n 0.0004108000081032515,\n 0.0006716167030390352,\n 0.0013132666004821657,\n 0.00271005000686273,\n 0.005762979207793251,\n 0.011955599911743775]"
     },
     "execution_count": 13,
     "metadata": {},
     "output_type": "execute_result"
    }
   ],
   "source": [
    "results"
   ],
   "metadata": {
    "collapsed": false,
    "ExecuteTime": {
     "end_time": "2023-12-20T00:48:49.871396Z",
     "start_time": "2023-12-20T00:48:49.865033Z"
    }
   },
   "id": "6a8d471080b4b337"
  },
  {
   "cell_type": "code",
   "execution_count": 14,
   "outputs": [],
   "source": [
    "from toolz import sliding_window"
   ],
   "metadata": {
    "collapsed": false,
    "ExecuteTime": {
     "end_time": "2023-12-20T00:48:51.347687Z",
     "start_time": "2023-12-20T00:48:51.340870Z"
    }
   },
   "id": "e6055f2f2e5ecaa6"
  },
  {
   "cell_type": "code",
   "execution_count": 15,
   "outputs": [
    {
     "data": {
      "text/plain": "[1.8185565689912686,\n 1.831211303679647,\n 1.6911686065266538,\n 1.6718719381545597,\n 1.6348994396081642,\n 1.9553810894513102,\n 2.063594707934958,\n 2.1265213531851845,\n 2.074551977486969]"
     },
     "execution_count": 15,
     "metadata": {},
     "output_type": "execute_result"
    }
   ],
   "source": [
    "fracs = [next / curr for curr, next in sliding_window(2, results)]\n",
    "fracs"
   ],
   "metadata": {
    "collapsed": false,
    "ExecuteTime": {
     "end_time": "2023-12-20T00:48:51.782898Z",
     "start_time": "2023-12-20T00:48:51.780702Z"
    }
   },
   "id": "b7e83894fab42f30"
  },
  {
   "cell_type": "code",
   "execution_count": null,
   "outputs": [],
   "source": [],
   "metadata": {
    "collapsed": false
   },
   "id": "9e5cdd205fa32a2b"
  }
 ],
 "metadata": {
  "kernelspec": {
   "display_name": "Python 3",
   "language": "python",
   "name": "python3"
  },
  "language_info": {
   "codemirror_mode": {
    "name": "ipython",
    "version": 2
   },
   "file_extension": ".py",
   "mimetype": "text/x-python",
   "name": "python",
   "nbconvert_exporter": "python",
   "pygments_lexer": "ipython2",
   "version": "2.7.6"
  }
 },
 "nbformat": 4,
 "nbformat_minor": 5
}
